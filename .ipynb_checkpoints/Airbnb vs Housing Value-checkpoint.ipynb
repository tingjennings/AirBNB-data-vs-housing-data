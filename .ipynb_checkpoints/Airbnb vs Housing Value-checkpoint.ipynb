{
 "cells": [
  {
   "cell_type": "markdown",
   "metadata": {},
   "source": [
    "# Project 1: AirBnB vs Housing Sales\n",
    "#### Members: Niraj Khatri, Josh Mill, Grace Arhin, Clay Bazzle, Ting Jennings"
   ]
  },
  {
   "cell_type": "markdown",
   "metadata": {},
   "source": [
    "# Clean The Data"
   ]
  },
  {
   "cell_type": "code",
   "execution_count": 69,
   "metadata": {},
   "outputs": [],
   "source": [
    "# Dependencies\n",
    "import requests\n",
    "import json\n",
    "import pandas as pd\n",
    "import matplotlib.pyplot as plt\n",
    "from scipy.stats import linregress\n",
    "import numpy as np\n",
    "import calendar\n",
    "import scipy.stats as st\n",
    "\n",
    "#CLEAN THE AIRBNB DATA\n",
    "AirBnB_df = pd.read_csv('Resources/AB_US_2020.csv')\n",
    "\n",
    "#Add date column that states month-year to match city sales df headers\n",
    "last_review = AirBnB_df.loc[:,'last_review']\n",
    "AirBnB_df['last_review'] = AirBnB_df['last_review'].fillna('00/00/00')\n",
    "\n",
    "new_dates_list = []\n",
    "for date in last_review:\n",
    "    if int(date[:2]) == 0:\n",
    "        new_date = '2019DONOTINCLUDE'\n",
    "        new_dates_list.append(new_date)\n",
    "        \n",
    "    elif int(date[:2]) > 12:\n",
    "        split_date = date.split('/')\n",
    "        new_date = f'20{split_date[2]}-{split_date[1]}'\n",
    "        new_dates_list.append(new_date)\n",
    "        \n",
    "    elif int(date[:2]) <= 12:\n",
    "        split_date = date.split('/')\n",
    "        new_date = f'20{split_date[2]}-{split_date[0]}'\n",
    "        new_dates_list.append(new_date)\n",
    "\n",
    "AirBnB_df['Month/Year'] = new_dates_list\n",
    "\n",
    "#Change New York City to New York\n",
    "AirBnB_df = AirBnB_df.replace(\"New York City\",\"New York\")\n",
    "\n",
    "#Change NaN for review_per_month to 0\n",
    "AirBnB_df['reviews_per_month'] = AirBnB_df['reviews_per_month'].fillna(0)\n",
    "\n",
    "\n",
    "# SALES CITY DATA\n",
    "#Pull in Sales City data\n",
    "sales_city_df = pd.read_csv('Resources/House_Sales_City.csv')\n",
    "\n",
    "#Group Sales City Data and check duplicate cities (will have counts > 1)\n",
    "grouped_df = sales_city_df.groupby('RegionName').count()\n",
    "\n",
    "#Pull rows where values = 1 to get non-duplicate cities\n",
    "sales_city_list = grouped_df[grouped_df['RegionID']==1].index\n",
    "\n",
    "#Unique cities in the AirBnB data\n",
    "thelist = AirBnB_df['city'].unique()\n",
    "\n",
    "#Pull sales city data from cities in AirBnB data\n",
    "clean_city_df = sales_city_df[sales_city_df['RegionName'].isin(sales_city_list)]\n",
    "clean_city_df = clean_city_df[clean_city_df['RegionName'].isin(thelist)]\n",
    "\n",
    "merged_data = AirBnB_df.merge(clean_city_df, right_on = 'RegionName', left_on = 'city')\n"
   ]
  },
  {
   "cell_type": "code",
   "execution_count": 2,
   "metadata": {},
   "outputs": [],
   "source": [
    "#Create DataFrame of number of AirBnBs in each city\n",
    "the_df = merged_data.groupby('city').agg({'id': ['count'],'Month/Year':['min']})"
   ]
  },
  {
   "cell_type": "code",
   "execution_count": 6,
   "metadata": {
    "scrolled": true
   },
   "outputs": [],
   "source": [
    "#Changes column headers to one level. Do not run more than once in kernel otherwise run previous set of code again followed by this code\n",
    "the_df.columns.map('_'.join)\n",
    "the_df.columns=the_df.columns.map('_'.join)"
   ]
  },
  {
   "cell_type": "code",
   "execution_count": 80,
   "metadata": {},
   "outputs": [],
   "source": [
    "#Create 2 lists. One for minimum price and the other for the month/year of the minimum price\n",
    "min_price_list = []\n",
    "min_year_list = []\n",
    "\n",
    "#Create 2 lists. One for maximum price and the other for the month/year of the maximum price (which will always be 2020-02)\n",
    "max_year_list = []\n",
    "max_price_list = []\n",
    "\n",
    "#List of all 11 cities\n",
    "the_df_index = the_df.index\n",
    "\n",
    "for city in the_df_index:\n",
    "    city_MY = the_df.loc[city,'Month/Year_min']\n",
    "    \n",
    "    \n",
    "    #FIND MINIMUM SALES PRICE VALUES\n",
    "    min_value_df = clean_city_df.loc[clean_city_df['RegionName']==city,city_MY]\n",
    "    min_value = min_value_df.tolist()[0]      \n",
    "\n",
    "    #List of row indexes\n",
    "    idx = clean_city_df.index\n",
    "    idx_list = clean_city_df.index.tolist()\n",
    "\n",
    "    #List of column indexes\n",
    "    column_idx = clean_city_df.columns\n",
    "\n",
    "    #Find row index\n",
    "    city_idx = idx[clean_city_df['RegionName'] == city].tolist()[0]\n",
    "    row_idx = idx_list.index(city_idx)\n",
    "\n",
    "    #Find column index\n",
    "    MY_idx = column_idx.get_loc(city_MY)\n",
    "\n",
    "    #Iterate through data set to find first value that is not \"nan\"\n",
    "    while np.isnan(min_value):\n",
    "\n",
    "        min_value = clean_city_df.iloc[row_idx, MY_idx + 1 ]\n",
    "        MY_idx = MY_idx + 1\n",
    "    \n",
    "    #Index into dataframe to collect the minimum sales price.\n",
    "    minimum_MY = clean_city_df.columns[MY_idx]\n",
    "    \n",
    "    #Append price and year to respective lists\n",
    "    min_price_list.append(min_value)\n",
    "    min_year_list.append(minimum_MY)  \n",
    "    \n",
    "    \n",
    "    \n",
    "    #FIND MAXIMUM SALES PRICE VALUES\n",
    "    max_value_df = clean_city_df.loc[clean_city_df['RegionName']==city,'2020-02'].tolist()[0]\n",
    "    max_price_list.append(max_value_df)\n",
    "    max_year_list.append('2020-02')\n",
    "\n",
    "#Create list of number of listings for each city of AirBnBs\n",
    "id_count = the_df.loc[:,'id_count'].tolist()       \n"
   ]
  },
  {
   "cell_type": "code",
   "execution_count": 53,
   "metadata": {},
   "outputs": [
    {
     "name": "stdout",
     "output_type": "stream",
     "text": [
      "The city of Asheville had 2,074 listings between January 2015 and February 2020.\n",
      "During this period, the housing prices increased by 47.85%\n",
      "\n",
      "\n",
      "The city of Boston had 3,339 listings between September 2014 and February 2020.\n",
      "During this period, the housing prices increased by 51.36%\n",
      "\n",
      "\n",
      "The city of Chicago had 6,397 listings between August 2013 and February 2020.\n",
      "During this period, the housing prices increased by 31.30%\n",
      "\n",
      "\n",
      "The city of Jersey City had 2,488 listings between August 2016 and February 2020.\n",
      "During this period, the housing prices increased by 48.00%\n",
      "\n",
      "\n",
      "The city of Los Angeles had 31,536 listings between March 2010 and February 2020.\n",
      "During this period, the housing prices increased by 110.82%\n",
      "\n",
      "\n",
      "The city of New Orleans had 6,408 listings between March 2013 and February 2020.\n",
      "During this period, the housing prices increased by 60.06%\n",
      "\n",
      "\n",
      "The city of New York had 45,756 listings between August 2011 and February 2020.\n",
      "During this period, the housing prices increased by 20.71%\n",
      "\n",
      "\n",
      "The city of Pacific Grove had 179 listings between January 2016 and February 2020.\n",
      "During this period, the housing prices increased by 19.07%\n",
      "\n",
      "\n",
      "The city of San Diego had 12,404 listings between May 2012 and February 2020.\n",
      "During this period, the housing prices increased by 78.80%\n",
      "\n",
      "\n",
      "The city of San Francisco had 7,053 listings between May 2011 and February 2020.\n",
      "During this period, the housing prices increased by 105.07%\n",
      "\n",
      "\n",
      "The city of Seattle had 6,575 listings between June 2012 and February 2020.\n",
      "During this period, the housing prices increased by 85.29%\n",
      "\n",
      "\n"
     ]
    }
   ],
   "source": [
    "#Calculate % increase from min MY to max MY\n",
    "\n",
    "percent_chg_list = []\n",
    "\n",
    "for city_index in range(0,len(the_df_index)):\n",
    "    \n",
    "    percent_change = 100*((max_price_list[city_index] - min_price_list[city_index])/ min_price_list[city_index])\n",
    "    percent_chg_list.append(percent_change)\n",
    "    \n",
    "    #Change min and max month/year to printable format\n",
    "    month = int(min_year_list[city_index][5:])\n",
    "    month_name = calendar.month_name[month]\n",
    "    \n",
    "    year= min_year_list[city_index][:4]\n",
    "    \n",
    "    #Print analysis of each city\n",
    "    print(f'The city of {the_df_index[city_index]} had {id_count[city_index]:,} listings between {month_name} {year} and February 2020.') \n",
    "    print(f'During this period, the housing prices increased by {percent_change:.2f}%')\n",
    "    print('\\n')      "
   ]
  },
  {
   "cell_type": "code",
   "execution_count": 79,
   "metadata": {},
   "outputs": [
    {
     "name": "stdout",
     "output_type": "stream",
     "text": [
      "The correlation between both factors is 0.06\n"
     ]
    },
    {
     "data": {
      "image/png": "[encoded data removed]",
      "text/plain": [
       "<Figure size 432x288 with 1 Axes>"
      ]
     },
     "metadata": {
      "needs_background": "light"
     },
     "output_type": "display_data"
    },
    {
     "name": "stdout",
     "output_type": "stream",
     "text": [
      "From the given data, it appears that the Airbnb listing count has little to no effect on the change in housing prices over multiple years\n"
     ]
    }
   ],
   "source": [
    "#Generate scatter plot of # of AirBnBs vs 2020-2 House Value\n",
    "\n",
    "x_values = the_df.loc[:,'id_count'].tolist()\n",
    "y_values = percent_chg_list\n",
    "\n",
    "#Correlation\n",
    "correlation = st.pearsonr(x_values,y_values)\n",
    "print(f\"The correlation between both factors is {round(correlation[0],2)}\")\n",
    "\n",
    "#Regression\n",
    "(slope, intercept, rvalue, pvalue, stderr) = linregress(x_values, y_values)\n",
    "#Have to use series instead of list hence 'the_df.loc[:,'id_count']' instead of x_values\n",
    "regress_values = the_df.loc[:,'id_count'] * slope + intercept\n",
    "line_eq = \"y = \" + str(round(slope,2)) + \"x + \" + str(round(intercept,2))\n",
    "\n",
    "plt.scatter(x_values,y_values)\n",
    "plt.title(\"Airbnb Listings vs. Housing Price % Increase\")\n",
    "plt.xlabel(\"Airbnb Listings\")\n",
    "plt.ylabel(\"Housing Price Change (%)\")\n",
    "plt.plot(x_values,regress_values,\"r-\")\n",
    "plt.annotate(line_eq,(10000,30),fontsize=15,color=\"red\")\n",
    "plt.show()\n",
    "\n",
    "print('From the given data, it appears that the Airbnb listing count has little to no effect on the change in housing prices over multiple years')"
   ]
  }
 ],
 "metadata": {
  "kernelspec": {
   "display_name": "Python [conda env:PythonData] *",
   "language": "python",
   "name": "conda-env-PythonData-py"
  },
  "language_info": {
   "codemirror_mode": {
    "name": "ipython",
    "version": 3
   },
   "file_extension": ".py",
   "mimetype": "text/x-python",
   "name": "python",
   "nbconvert_exporter": "python",
   "pygments_lexer": "ipython3",
   "version": "3.6.10"
  }
 },
 "nbformat": 4,
 "nbformat_minor": 4
}
