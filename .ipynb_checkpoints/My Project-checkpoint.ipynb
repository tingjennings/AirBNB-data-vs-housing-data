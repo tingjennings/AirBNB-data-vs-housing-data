{
 "cells": [
  {
   "cell_type": "code",
   "execution_count": null,
   "id": "38a1cceb",
   "metadata": {},
   "outputs": [],
   "source": [
    "# Dependencies\n",
    "import requests\n",
    "import json\n",
    "import pandas as pd\n",
    "import matplotlib.pyplot as plt\n",
    "from scipy.stats import linregress"
   ]
  },
  {
   "cell_type": "code",
   "execution_count": 2,
   "id": "dd11a3d8",
   "metadata": {},
   "outputs": [
    {
     "name": "stderr",
     "output_type": "stream",
     "text": [
      "C:\\Users\\clayb\\anaconda3\\envs\\PythonData\\lib\\site-packages\\IPython\\core\\interactiveshell.py:3072: DtypeWarning: Columns (4) have mixed types.Specify dtype option on import or set low_memory=False.\n",
      "  interactivity=interactivity, compiler=compiler, result=result)\n"
     ]
    }
   ],
   "source": [
    "#CLEAN THE AIRBNB DATA\n",
    "AirBnB_df = pd.read_csv('Resources/AB_US_2020.csv')"
   ]
  },
  {
   "cell_type": "code",
   "execution_count": null,
   "id": "98a8d50d",
   "metadata": {},
   "outputs": [],
   "source": [
    "#Change New York City to New York\n",
    "AirBnB_df = AirBnB_df.replace(\"New York City\",\"New York\")\n",
    "\n",
    "#Change NaN for review_per_month to 0\n",
    "AirBnB_df['reviews_per_month'] = AirBnB_df['reviews_per_month'].fillna(0)"
   ]
  },
  {
   "cell_type": "code",
   "execution_count": null,
   "id": "502f6c93",
   "metadata": {},
   "outputs": [],
   "source": [
    "#Add date column that states month-year to match city sales df headers\n",
    "last_review = AirBnB_df.loc[:,'last_review']\n",
    "AirBnB_df['last_review'] = AirBnB_df['last_review'].fillna('00/00/00')\n",
    "\n",
    "new_dates_list = []\n",
    "for date in last_review:\n",
    "    if int(date[:2]) > 12:\n",
    "        split_date = date.split('/')\n",
    "        new_date = f'20{split_date[2]}-{split_date[1]}'\n",
    "        new_dates_list.append(new_date)\n",
    "        \n",
    "    elif int(date[:2]) <= 12:\n",
    "        split_date = date.split('/')\n",
    "        new_date = f'20{split_date[2]}-{split_date[0]}'\n",
    "        new_dates_list.append(new_date)\n",
    "\n",
    "AirBnB_df['Month/Year'] = new_dates_list\n",
    "\n",
    "new_dates_list"
   ]
  },
  {
   "cell_type": "code",
   "execution_count": null,
   "id": "d27e7f09",
   "metadata": {
    "scrolled": false
   },
   "outputs": [],
   "source": [
    "# SALES CITY DATA\n",
    "#Pull in Sales City data\n",
    "sales_city_df = pd.read_csv('Resources/House_Sales_City.csv')\n",
    "\n",
    "#Group Sales City Data and check duplicate cities (will have counts > 1)\n",
    "grouped_df = sales_city_df.groupby('RegionName').count()\n",
    "\n",
    "#Pull rows where values = 1 to get non-duplicate cities\n",
    "sales_city_list = grouped_df[grouped_df['RegionID']==1].index\n",
    "\n",
    "#Unique cities in the AirBnB data\n",
    "thelist = AirBnB_df['city'].unique()\n",
    "\n",
    "#Pull sales city data from cities in AirBnB data\n",
    "clean_city_df = sales_city_df[sales_city_df['RegionName'].isin(sales_city_list)]\n",
    "clean_city_df = clean_city_df[clean_city_df['RegionName'].isin(thelist)]\n",
    "\n",
    "#Merge both data sets\n",
    "merged_data = AirBnB_df.merge(clean_city_df, right_on = 'RegionName', left_on = 'city')\n",
    "\n",
    "merged_data"
   ]
  },
  {
   "cell_type": "code",
   "execution_count": null,
   "id": "9bc57471",
   "metadata": {},
   "outputs": [],
   "source": [
    "my_df = merged_data[['price', 'city', 'reviews_per_month', 'SizeRank']]\n",
    "my_df"
   ]
  },
  {
   "cell_type": "code",
   "execution_count": null,
   "id": "82f35f3e",
   "metadata": {
    "scrolled": true
   },
   "outputs": [],
   "source": [
    "# Take AirBnB sum of reviews per month and group by city\n",
    "reviews_per_month = merged_data.groupby('city')['reviews_per_month'].sum()\n",
    "reviews_per_month"
   ]
  },
  {
   "cell_type": "code",
   "execution_count": null,
   "id": "a1131b63",
   "metadata": {},
   "outputs": [],
   "source": [
    "number_of_reviews = merged_data.groupby('city')['number_of_reviews'].sum()\n",
    "number_of_reviews"
   ]
  },
  {
   "cell_type": "code",
   "execution_count": null,
   "id": "1492e283",
   "metadata": {
    "scrolled": true
   },
   "outputs": [],
   "source": [
    "housing_prices = merged_data.groupby('city')['2020-02'].mean()\n",
    "housing_prices"
   ]
  },
  {
   "cell_type": "code",
   "execution_count": null,
   "id": "71476317",
   "metadata": {},
   "outputs": [],
   "source": [
    "#reviews_per_month = merged_data.groupby('city')['reviews_per_month'].sum()\n",
    "#housing_prices = merged_data.groupby('city')['2020-02'].mean()\n",
    "\n",
    "x_values = housing_prices\n",
    "y_values = reviews_per_month\n",
    "\n",
    "(slope, intercept, rvalue, pvalue, stderr) = linregress(x_values, y_values)\n",
    "regress_values = x_values * slope + intercept\n",
    "line_eq = \"y = \" + str(round(slope,2)) + \"x + \" + str(round(intercept,2))\n",
    "\n",
    "plt.scatter(x_values, y_values)\n",
    "plt.plot(x_values,regress_values,\"r-\")\n",
    "plt.annotate(line_eq,(517400,5894),fontsize=15,color=\"red\")\n",
    "\n",
    "plt.xlabel('Avg. Housing Price')\n",
    "plt.ylabel('Reviews per Month')\n",
    "plt.title('AirBnB Reviews per Month by Price')\n",
    "print(f\"The r-squared is: {rvalue**2}\")"
   ]
  },
  {
   "cell_type": "code",
   "execution_count": null,
   "id": "4e782b5e",
   "metadata": {},
   "outputs": [],
   "source": [
    "x_values = my_df['reviews_per_month']\n",
    "y_values = my_df['price']\n",
    "\n",
    "(slope, intercept, rvalue, pvalue, stderr) = linregress(x_values, y_values)\n",
    "regress_values = x_values * slope + intercept\n",
    "line_eq = \"y = \" + str(round(slope,2)) + \"x + \" + str(round(intercept,2))\n",
    "\n",
    "plt.scatter(x_values, y_values)\n",
    "plt.plot(x_values,regress_values,\"r-\")\n",
    "plt.annotate(line_eq,(0,50),fontsize=15,color=\"red\")\n",
    "\n",
    "plt.xlabel('Reviews per Month')\n",
    "plt.ylabel('Price')\n",
    "plt.title('AirBNB Reviews per Month by Price')\n",
    "print(f\"The r-squared is: {rvalue**2}\")\n",
    "\n",
    "# \"There is a strong, negative, nonlinear association between the two variables.\""
   ]
  },
  {
   "cell_type": "code",
   "execution_count": null,
   "id": "7fe140a7",
   "metadata": {},
   "outputs": [],
   "source": []
  },
  {
   "cell_type": "code",
   "execution_count": null,
   "id": "c8891fa6",
   "metadata": {},
   "outputs": [],
   "source": []
  }
 ],
 "metadata": {
  "kernelspec": {
   "display_name": "PythonData",
   "language": "python",
   "name": "pythondata"
  },
  "language_info": {
   "codemirror_mode": {
    "name": "ipython",
    "version": 3
   },
   "file_extension": ".py",
   "mimetype": "text/x-python",
   "name": "python",
   "nbconvert_exporter": "python",
   "pygments_lexer": "ipython3",
   "version": "3.6.10"
  }
 },
 "nbformat": 4,
 "nbformat_minor": 5
}
