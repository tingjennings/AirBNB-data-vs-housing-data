{
 "cells": [
  {
   "cell_type": "markdown",
   "metadata": {},
   "source": [
    "# Project 1: AirBnB vs Housing Sales\n",
    "#### Members: Niraj Khatri, Josh Mill, Grace Arhin, Clay Bazzle, Ting Jennings"
   ]
  },
  {
   "cell_type": "markdown",
   "metadata": {},
   "source": [
    "# Clean The Data"
   ]
  },
  {
   "cell_type": "code",
   "execution_count": 8,
   "metadata": {},
   "outputs": [],
   "source": [
    "# Dependencies\n",
    "import requests\n",
    "import json\n",
    "import pandas as pd\n",
    "import matplotlib.pyplot as plt\n",
    "from scipy.stats import linregress\n",
    "\n",
    "#CLEAN THE AIRBNB DATA\n",
    "AirBnB_df = pd.read_csv('Resources/AB_US_2020.csv')\n",
    "\n",
    "#Add date column that states month-year to match city sales df headers\n",
    "last_review = AirBnB_df.loc[:,'last_review']\n",
    "AirBnB_df['last_review'] = AirBnB_df['last_review'].fillna('00/00/00')\n",
    "\n",
    "new_dates_list = []\n",
    "for date in last_review:\n",
    "    if int(date[:2]) > 12:\n",
    "        split_date = date.split('/')\n",
    "        new_date = f'20{split_date[2]}-{split_date[1]}'\n",
    "        new_dates_list.append(new_date)\n",
    "        \n",
    "    elif int(date[:2]) <= 12:\n",
    "        split_date = date.split('/')\n",
    "        new_date = f'20{split_date[2]}-{split_date[0]}'\n",
    "        new_dates_list.append(new_date)\n",
    "\n",
    "AirBnB_df['Month/Year'] = new_dates_list\n",
    "\n",
    "\n",
    "#Change New York City to New York\n",
    "AirBnB_df = AirBnB_df.replace(\"New York City\",\"New York\")\n",
    "\n",
    "#Change NaN for review_per_month to 0\n",
    "AirBnB_df['reviews_per_month'] = AirBnB_df['reviews_per_month'].fillna(0)\n",
    "\n",
    "\n",
    "# SALES CITY DATA\n",
    "#Pull in Sales City data\n",
    "sales_city_df = pd.read_csv('Resources/House_Sales_City.csv')\n",
    "\n",
    "#Group Sales City Data and check duplicate cities (will have counts > 1)\n",
    "grouped_df = sales_city_df.groupby('RegionName').count()\n",
    "\n",
    "#Pull rows where values = 1 to get non-duplicate cities\n",
    "sales_city_list = grouped_df[grouped_df['RegionID']==1].index\n",
    "\n",
    "#Unique cities in the AirBnB data\n",
    "thelist = AirBnB_df['city'].unique()\n",
    "\n",
    "#Pull sales city data from cities in AirBnB data\n",
    "clean_city_df = sales_city_df[sales_city_df['RegionName'].isin(sales_city_list)]\n",
    "clean_city_df = clean_city_df[clean_city_df['RegionName'].isin(thelist)]\n",
    "\n",
    "#Merge both data sets\n",
    "merged_data = AirBnB_df.merge(clean_city_df, right_on = 'RegionName', left_on = 'city')\n"
   ]
  },
  {
   "cell_type": "code",
   "execution_count": null,
   "metadata": {},
   "outputs": [],
   "source": []
  }
 ],
 "metadata": {
  "kernelspec": {
   "display_name": "Python [conda env:PythonData] *",
   "language": "python",
   "name": "conda-env-PythonData-py"
  },
  "language_info": {
   "codemirror_mode": {
    "name": "ipython",
    "version": 3
   },
   "file_extension": ".py",
   "mimetype": "text/x-python",
   "name": "python",
   "nbconvert_exporter": "python",
   "pygments_lexer": "ipython3",
   "version": "3.6.10"
  }
 },
 "nbformat": 4,
 "nbformat_minor": 4
}
